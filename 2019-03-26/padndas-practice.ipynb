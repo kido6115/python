{
 "cells": [
  {
   "cell_type": "code",
   "execution_count": 4,
   "metadata": {},
   "outputs": [
    {
     "name": "stdout",
     "output_type": "stream",
     "text": [
      "0      0\n",
      "1      1\n",
      "2      2\n",
      "3      3\n",
      "4      4\n",
      "5      5\n",
      "6      6\n",
      "7      7\n",
      "8      8\n",
      "9      9\n",
      "10    10\n",
      "11    11\n",
      "dtype: int32 \n",
      "      0\n",
      "0    0\n",
      "1    1\n",
      "2    2\n",
      "3    3\n",
      "4    4\n",
      "5    5\n",
      "6    6\n",
      "7    7\n",
      "8    8\n",
      "9    9\n",
      "10  10\n",
      "11  11\n"
     ]
    }
   ],
   "source": [
    "import numpy as np\n",
    "import pandas as pd\n",
    "import matplotlib.pyplot as plt\n",
    "# generate ndarray\n",
    "# 1D vector\n",
    "arr_v=np.arange(12)\n",
    "# 2D Matrix\n",
    "arr_m=np.arange(12).reshape(3,4) # 3 row 4 column matrix\n",
    "dsarv=pd.Series(arr_v)\n",
    "dfarv=pd.DataFrame(arr_v)\n",
    "print(dsarv,'\\n',dfarv)"
   ]
  },
  {
   "cell_type": "code",
   "execution_count": 8,
   "metadata": {},
   "outputs": [
    {
     "name": "stdout",
     "output_type": "stream",
     "text": [
      "DatetimeIndex(['2019-01-01', '2019-01-02', '2019-01-03', '2019-01-04',\n",
      "               '2019-01-05', '2019-01-06'],\n",
      "              dtype='datetime64[ns]', freq='D')\n",
      "             A   B   C   D\n",
      "2019-01-01   0   1   2   3\n",
      "2019-01-02   4   5   6   7\n",
      "2019-01-03   8   9  10  11\n",
      "2019-01-04  12  13  14  15\n",
      "2019-01-05  16  17  18  19\n",
      "2019-01-06  20  21  22  23\n",
      "        Date         A  B  C    D\n",
      "0 2019-01-01  0.270704  1  a  foo\n",
      "1 2019-01-02  1.966628  1  b  foo\n",
      "2 2019-01-03  0.766965  1  c  foo\n",
      "3 2019-01-04 -1.112001  1  a  foo\n",
      "4 2019-01-05 -1.252369  1  e  foo\n",
      "5 2019-01-06  0.746690  1  f  foo\n",
      "        Date         A  B  C    D  R\n",
      "0 2019-01-01  0.270704  1  a  foo  1\n",
      "1 2019-01-02  1.966628  1  b  foo  2\n",
      "2 2019-01-03  0.766965  1  c  foo  3\n",
      "3 2019-01-04 -1.112001  1  a  foo  4\n",
      "4 2019-01-05 -1.252369  1  e  foo  5\n",
      "5 2019-01-06  0.746690  1  f  foo  6\n"
     ]
    }
   ],
   "source": [
    "dates=pd.date_range('20190101',periods=6)\n",
    "print(dates)\n",
    "# way I\n",
    "# pd.DataFrame(data,index,columns)\n",
    "df1=pd.DataFrame(np.arange(24).reshape(6,4),index=dates,columns=list('ABCD'))\n",
    "print(df1)\n",
    "# way II\n",
    "# pd.DataFrame(dictionary)\n",
    "df2=pd.DataFrame({'Date':dates,\n",
    "                 'A':np.random.randn(6),\n",
    "                 'B':1,\n",
    "                 'C':list('abcaef'),\n",
    "                 'D':'foo'})\n",
    "print(df2)\n",
    "df2['R']=[1,2,3,4,5,6]\n",
    "print(df2)\n"
   ]
  },
  {
   "cell_type": "code",
   "execution_count": 13,
   "metadata": {},
   "outputs": [
    {
     "data": {
      "text/plain": [
       "A    123.200000\n",
       "B    148.000000\n",
       "C    117.200000\n",
       "D     79.000000\n",
       "a    107.833333\n",
       "b     98.833333\n",
       "c     86.600000\n",
       "d    121.800000\n",
       "dtype: float64"
      ]
     },
     "execution_count": 13,
     "metadata": {},
     "output_type": "execute_result"
    }
   ],
   "source": [
    "np.random.seed(50)\n",
    "df3=pd.DataFrame(np.random.randint(1,200,48).reshape(6,8),columns=['A','B','C','D','a','b','c','d'])\n",
    "df3\n",
    "df3[df3.iloc[:,:]<30]=np.nan\n",
    "df3\n",
    "df3.mean()"
   ]
  },
  {
   "cell_type": "code",
   "execution_count": null,
   "metadata": {},
   "outputs": [],
   "source": []
  }
 ],
 "metadata": {
  "kernelspec": {
   "display_name": "Python 3",
   "language": "python",
   "name": "python3"
  },
  "language_info": {
   "codemirror_mode": {
    "name": "ipython",
    "version": 3
   },
   "file_extension": ".py",
   "mimetype": "text/x-python",
   "name": "python",
   "nbconvert_exporter": "python",
   "pygments_lexer": "ipython3",
   "version": "3.7.1"
  }
 },
 "nbformat": 4,
 "nbformat_minor": 2
}
