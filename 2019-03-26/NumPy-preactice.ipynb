{
 "cells": [
  {
   "cell_type": "code",
   "execution_count": 29,
   "metadata": {},
   "outputs": [
    {
     "name": "stdout",
     "output_type": "stream",
     "text": [
      "[[1 2 3]\n",
      " [2 3 4]] \n",
      "\n",
      "Properties of \"ar\" ------------------------- \n",
      "\n",
      "Number of dim: 2\n",
      "Shape: (2, 3)\n",
      "Size: 6\n",
      "Data Type: int32\n",
      "Object Type: <class 'numpy.ndarray'>\n",
      "[[2. 2. 2. 2.]\n",
      " [2. 2. 2. 2.]\n",
      " [2. 2. 2. 2.]]\n",
      "[[7. 7. 7. 7.]\n",
      " [7. 7. 7. 7.]\n",
      " [7. 7. 7. 7.]]\n",
      "[[ 0  1  2  3]\n",
      " [ 4  5  6  7]\n",
      " [ 8  9 10 11]]\n",
      "[ 1.          1.47368421  1.94736842  2.42105263  2.89473684  3.36842105\n",
      "  3.84210526  4.31578947  4.78947368  5.26315789  5.73684211  6.21052632\n",
      "  6.68421053  7.15789474  7.63157895  8.10526316  8.57894737  9.05263158\n",
      "  9.52631579 10.        ]\n",
      "[[ 1.          1.47368421  1.94736842  2.42105263  2.89473684]\n",
      " [ 3.36842105  3.84210526  4.31578947  4.78947368  5.26315789]\n",
      " [ 5.73684211  6.21052632  6.68421053  7.15789474  7.63157895]\n",
      " [ 8.10526316  8.57894737  9.05263158  9.52631579 10.        ]]\n"
     ]
    }
   ],
   "source": [
    "import numpy as np\n",
    "\n",
    "ar=np.array([[1,2,3],[2,3,4]],dtype=np.int)\n",
    "\n",
    "print(ar,'\\n')\n",
    "print('Properties of \"ar\"','-'*25,'\\n')\n",
    "print('Number of dim:',ar.ndim)\n",
    "print('Shape:',ar.shape)\n",
    "print('Size:',ar.size)\n",
    "print('Data Type:',ar.dtype)\n",
    "print('Object Type:',type(ar))\n",
    "ar0=np.zeros((3,4))\n",
    "print(ar0+2)\n",
    "ar1=np.ones((3,4))\n",
    "print(ar1*7)\n",
    "np.arange(10,20,2) # start,end,step\n",
    "asp=np.arange(12).reshape((3,4))\n",
    "print(asp)\n",
    "a=np.linspace(1,10,20) # start,end,sections\n",
    "print(a)\n",
    "a=a.reshape(4,5)\n",
    "print(a)"
   ]
  },
  {
   "cell_type": "code",
   "execution_count": null,
   "metadata": {},
   "outputs": [],
   "source": []
  }
 ],
 "metadata": {
  "kernelspec": {
   "display_name": "Python 3",
   "language": "python",
   "name": "python3"
  },
  "language_info": {
   "codemirror_mode": {
    "name": "ipython",
    "version": 3
   },
   "file_extension": ".py",
   "mimetype": "text/x-python",
   "name": "python",
   "nbconvert_exporter": "python",
   "pygments_lexer": "ipython3",
   "version": "3.7.1"
  }
 },
 "nbformat": 4,
 "nbformat_minor": 2
}
